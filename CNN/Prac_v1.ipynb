{
 "cells": [
  {
   "cell_type": "code",
   "execution_count": 30,
   "id": "9541fa90-8bad-489d-853f-32434a0837ed",
   "metadata": {},
   "outputs": [],
   "source": [
    "import requests\n",
    "import ssl\n",
    "import numpy as np\n",
    "import pandas as pd\n",
    "import tensorflow as tf\n",
    "import tensorflow.keras.utils as np_utils\n",
    "try:\n",
    "    _create_unverified_https_context = ssl._create_unverified_context\n",
    "except AttributeError:\n",
    "    # Legacy Python that doesn't verify HTTPS certificates by default\n",
    "    pass\n",
    "else:\n",
    "    # Handle target environment that doesn't support HTTPS verification\n",
    "    ssl._create_default_https_context = _create_unverified_https_context"
   ]
  },
  {
   "cell_type": "code",
   "execution_count": 31,
   "id": "8c2bf697-c15b-4f9e-b959-4ac65e6caaad",
   "metadata": {},
   "outputs": [],
   "source": [
    "import matplotlib.pyplot as plt\n",
    "import matplotlib.image as img\n",
    "\n",
    "#define a function called plot_image\n",
    "def plot_image(image):\n",
    "    fig = plt.gcf()\n",
    "    fig.set_size_inches(2, 2)\n",
    "    plt.imshow(image, cmap='binary')\n",
    "    plt.show()"
   ]
  },
  {
   "cell_type": "code",
   "execution_count": 32,
   "id": "aaae800c-1957-478a-a759-7a66ddb9550a",
   "metadata": {
    "tags": []
   },
   "outputs": [],
   "source": [
    "'''category and normalize input data for further analyzing'''\n",
    "ds = tf.keras.datasets.mnist\n",
    "(x_train,y_train),(x_test,y_test)= ds.load_data()\n",
    "\n",
    "x_train_normalize = tf.keras.utils.normalize(x_train)\n",
    "x_test_normalize = tf.keras.utils.normalize(x_test)\n",
    "\n",
    "y_trainOneHot = np_utils.to_categorical(y_train)\n",
    "y_testOneHot = np_utils.to_categorical(y_test)"
   ]
  },
  {
   "cell_type": "code",
   "execution_count": 33,
   "id": "19e45b27-80f5-4238-ab71-c3cfe8caaf54",
   "metadata": {
    "tags": []
   },
   "outputs": [],
   "source": [
    "#tf.keras.datasets.mnist.load_data()"
   ]
  },
  {
   "cell_type": "code",
   "execution_count": 112,
   "id": "96c7899c-3cc8-42c8-a401-cc03abe67da2",
   "metadata": {
    "tags": []
   },
   "outputs": [
    {
     "name": "stdout",
     "output_type": "stream",
     "text": [
      "[[  0   0   0   0   0   0   0   0   0   0   0   0   0   0   0   0   0   0\n",
      "    0   0   0   0   0   0   0   0   0   0]\n",
      " [  0   0   0   0   0   0   0   0   0   0   0   0   0   0   0   0   0   0\n",
      "    0   0   0   0   0   0   0   0   0   0]\n",
      " [  0   0   0   0   0   0   0   0   0   0   0   0   0   0   0   0   0   0\n",
      "    0   0   0   0   0   0   0   0   0   0]\n",
      " [  0   0   0   0   0   0   0   0   0   0 116 125 171 255 255 150  93   0\n",
      "    0   0   0   0   0   0   0   0   0   0]\n",
      " [  0   0   0   0   0   0   0   0   0 169 253 253 253 253 253 253 218  30\n",
      "    0   0   0   0   0   0   0   0   0   0]\n",
      " [  0   0   0   0   0   0   0   0 169 253 253 253 213 142 176 253 253 122\n",
      "    0   0   0   0   0   0   0   0   0   0]\n",
      " [  0   0   0   0   0   0   0  52 250 253 210  32  12   0   6 206 253 140\n",
      "    0   0   0   0   0   0   0   0   0   0]\n",
      " [  0   0   0   0   0   0   0  77 251 210  25   0   0   0 122 248 253  65\n",
      "    0   0   0   0   0   0   0   0   0   0]\n",
      " [  0   0   0   0   0   0   0   0  31  18   0   0   0   0 209 253 253  65\n",
      "    0   0   0   0   0   0   0   0   0   0]\n",
      " [  0   0   0   0   0   0   0   0   0   0   0   0   0 117 247 253 198  10\n",
      "    0   0   0   0   0   0   0   0   0   0]\n",
      " [  0   0   0   0   0   0   0   0   0   0   0   0  76 247 253 231  63   0\n",
      "    0   0   0   0   0   0   0   0   0   0]\n",
      " [  0   0   0   0   0   0   0   0   0   0   0   0 128 253 253 144   0   0\n",
      "    0   0   0   0   0   0   0   0   0   0]\n",
      " [  0   0   0   0   0   0   0   0   0   0   0 176 246 253 159  12   0   0\n",
      "    0   0   0   0   0   0   0   0   0   0]\n",
      " [  0   0   0   0   0   0   0   0   0   0  25 234 253 233  35   0   0   0\n",
      "    0   0   0   0   0   0   0   0   0   0]\n",
      " [  0   0   0   0   0   0   0   0   0   0 198 253 253 141   0   0   0   0\n",
      "    0   0   0   0   0   0   0   0   0   0]\n",
      " [  0   0   0   0   0   0   0   0   0  78 248 253 189  12   0   0   0   0\n",
      "    0   0   0   0   0   0   0   0   0   0]\n",
      " [  0   0   0   0   0   0   0   0  19 200 253 253 141   0   0   0   0   0\n",
      "    0   0   0   0   0   0   0   0   0   0]\n",
      " [  0   0   0   0   0   0   0   0 134 253 253 173  12   0   0   0   0   0\n",
      "    0   0   0   0   0   0   0   0   0   0]\n",
      " [  0   0   0   0   0   0   0   0 248 253 253  25   0   0   0   0   0   0\n",
      "    0   0   0   0   0   0   0   0   0   0]\n",
      " [  0   0   0   0   0   0   0   0 248 253 253  43  20  20  20  20   5   0\n",
      "    5  20  20  37 150 150 150 147  10   0]\n",
      " [  0   0   0   0   0   0   0   0 248 253 253 253 253 253 253 253 168 143\n",
      "  166 253 253 253 253 253 253 253 123   0]\n",
      " [  0   0   0   0   0   0   0   0 174 253 253 253 253 253 253 253 253 253\n",
      "  253 253 249 247 247 169 117 117  57   0]\n",
      " [  0   0   0   0   0   0   0   0   0 118 123 123 123 166 253 253 253 155\n",
      "  123 123  41   0   0   0   0   0   0   0]\n",
      " [  0   0   0   0   0   0   0   0   0   0   0   0   0   0   0   0   0   0\n",
      "    0   0   0   0   0   0   0   0   0   0]\n",
      " [  0   0   0   0   0   0   0   0   0   0   0   0   0   0   0   0   0   0\n",
      "    0   0   0   0   0   0   0   0   0   0]\n",
      " [  0   0   0   0   0   0   0   0   0   0   0   0   0   0   0   0   0   0\n",
      "    0   0   0   0   0   0   0   0   0   0]\n",
      " [  0   0   0   0   0   0   0   0   0   0   0   0   0   0   0   0   0   0\n",
      "    0   0   0   0   0   0   0   0   0   0]\n",
      " [  0   0   0   0   0   0   0   0   0   0   0   0   0   0   0   0   0   0\n",
      "    0   0   0   0   0   0   0   0   0   0]]\n"
     ]
    },
    {
     "data": {
      "image/png": "[encoded data removed]",
      "text/plain": [
       "<Figure size 144x144 with 1 Axes>"
      ]
     },
     "metadata": {
      "needs_background": "light"
     },
     "output_type": "display_data"
    },
    {
     "data": {
      "text/plain": [
       "'print(x_test[1])\\nplot_image(x_test[1])\\nprint(y_test[1])'"
      ]
     },
     "execution_count": 112,
     "metadata": {},
     "output_type": "execute_result"
    }
   ],
   "source": [
    "print(x_test[1])\n",
    "plot_image(x_test[1])\n",
    "'''print(x_test[1])\n",
    "plot_image(x_test[1])\n",
    "print(y_test[1])'''"
   ]
  },
  {
   "cell_type": "code",
   "execution_count": 35,
   "id": "d1c9c20c-1641-4abe-b917-f22a9c4f400b",
   "metadata": {
    "collapsed": true,
    "jupyter": {
     "outputs_hidden": true,
     "source_hidden": true
    },
    "tags": []
   },
   "outputs": [
    {
     "name": "stdout",
     "output_type": "stream",
     "text": [
      "2\n",
      "[0. 0. 1. 0. 0. 0. 0. 0. 0. 0.]\n"
     ]
    }
   ],
   "source": [
    "print(y_test[1])\n",
    "print(y_testOneHot[1])"
   ]
  },
  {
   "cell_type": "code",
   "execution_count": 39,
   "id": "31e9dfcc-e164-4e99-8886-85c589bd5bec",
   "metadata": {},
   "outputs": [],
   "source": [
    "'''creat CNN model'''\n",
    "from keras.models import Sequential\n",
    "from keras.layers import Dense, Dropout, Flatten, Conv2D, MaxPooling2D\n",
    "\n",
    "\n",
    "#further info of Sequential():\n",
    "#https://keras-cn.readthedocs.io/en/latest/getting_started/sequential_model/\n",
    "#https://keras-cn.readthedocs.io/en/latest/models/sequential/\n",
    "\n",
    "model = Sequential()\n",
    "\n",
    "#filter為16, Kernel size為(5,5),Padding為(same)\n",
    "model.add(Conv2D(filters=16,\n",
    "                 kernel_size=(5,5),\n",
    "                 padding='same',\n",
    "                 input_shape=(28,28,1), \n",
    "                 activation='relu'))\n",
    "\n",
    "#MaxPooling size is (2,2)\n",
    "model.add(MaxPooling2D(pool_size=(2,2)))\n",
    "\n",
    "#filter is 36\n",
    "model.add(Conv2D(filters=36,\n",
    "                 kernel_size=(5,5),\n",
    "                 padding='same',\n",
    "                 activation='relu'))\n",
    "model.add(MaxPooling2D(pool_size=(2, 2)))\n",
    "\n",
    "#Drop掉部分神經元避免overfitting\n",
    "model.add(Dropout(0.25))\n",
    "\n",
    "#平坦化\n",
    "model.add(Flatten())\n",
    "model.add(Dense(128,activation='relu'))\n",
    "model.add(Dropout(0.5))\n",
    "model.add(Dense(10,activation='softmax'))"
   ]
  },
  {
   "cell_type": "code",
   "execution_count": 41,
   "id": "639cfaa8-e6f6-4686-9fca-36bf3683b5f2",
   "metadata": {},
   "outputs": [
    {
     "name": "stdout",
     "output_type": "stream",
     "text": [
      "Epoch 1/20\n",
      "160/160 - 16s - loss: 0.5932 - accuracy: 0.8105 - val_loss: 0.1236 - val_accuracy: 0.9609 - 16s/epoch - 101ms/step\n",
      "Epoch 2/20\n",
      "160/160 - 16s - loss: 0.1691 - accuracy: 0.9500 - val_loss: 0.0755 - val_accuracy: 0.9763 - 16s/epoch - 102ms/step\n",
      "Epoch 3/20\n",
      "160/160 - 18s - loss: 0.1187 - accuracy: 0.9638 - val_loss: 0.0608 - val_accuracy: 0.9804 - 18s/epoch - 113ms/step\n",
      "Epoch 4/20\n",
      "160/160 - 17s - loss: 0.0969 - accuracy: 0.9702 - val_loss: 0.0529 - val_accuracy: 0.9834 - 17s/epoch - 107ms/step\n",
      "Epoch 5/20\n",
      "160/160 - 18s - loss: 0.0849 - accuracy: 0.9734 - val_loss: 0.0456 - val_accuracy: 0.9860 - 18s/epoch - 111ms/step\n",
      "Epoch 6/20\n",
      "160/160 - 16s - loss: 0.0740 - accuracy: 0.9773 - val_loss: 0.0424 - val_accuracy: 0.9868 - 16s/epoch - 102ms/step\n",
      "Epoch 7/20\n",
      "160/160 - 16s - loss: 0.0661 - accuracy: 0.9797 - val_loss: 0.0398 - val_accuracy: 0.9884 - 16s/epoch - 100ms/step\n",
      "Epoch 8/20\n",
      "160/160 - 16s - loss: 0.0591 - accuracy: 0.9819 - val_loss: 0.0389 - val_accuracy: 0.9884 - 16s/epoch - 101ms/step\n",
      "Epoch 9/20\n",
      "160/160 - 18s - loss: 0.0536 - accuracy: 0.9841 - val_loss: 0.0373 - val_accuracy: 0.9887 - 18s/epoch - 113ms/step\n",
      "Epoch 10/20\n",
      "160/160 - 17s - loss: 0.0506 - accuracy: 0.9849 - val_loss: 0.0354 - val_accuracy: 0.9891 - 17s/epoch - 106ms/step\n",
      "Epoch 11/20\n",
      "160/160 - 18s - loss: 0.0472 - accuracy: 0.9855 - val_loss: 0.0345 - val_accuracy: 0.9898 - 18s/epoch - 114ms/step\n",
      "Epoch 12/20\n",
      "160/160 - 18s - loss: 0.0450 - accuracy: 0.9860 - val_loss: 0.0316 - val_accuracy: 0.9907 - 18s/epoch - 110ms/step\n",
      "Epoch 13/20\n",
      "160/160 - 16s - loss: 0.0409 - accuracy: 0.9880 - val_loss: 0.0327 - val_accuracy: 0.9907 - 16s/epoch - 103ms/step\n",
      "Epoch 14/20\n",
      "160/160 - 17s - loss: 0.0372 - accuracy: 0.9886 - val_loss: 0.0313 - val_accuracy: 0.9917 - 17s/epoch - 104ms/step\n",
      "Epoch 15/20\n",
      "160/160 - 16s - loss: 0.0401 - accuracy: 0.9877 - val_loss: 0.0345 - val_accuracy: 0.9898 - 16s/epoch - 102ms/step\n",
      "Epoch 16/20\n",
      "160/160 - 16s - loss: 0.0356 - accuracy: 0.9887 - val_loss: 0.0310 - val_accuracy: 0.9915 - 16s/epoch - 102ms/step\n",
      "Epoch 17/20\n",
      "160/160 - 16s - loss: 0.0311 - accuracy: 0.9901 - val_loss: 0.0326 - val_accuracy: 0.9906 - 16s/epoch - 102ms/step\n",
      "Epoch 18/20\n",
      "160/160 - 16s - loss: 0.0303 - accuracy: 0.9904 - val_loss: 0.0318 - val_accuracy: 0.9912 - 16s/epoch - 103ms/step\n",
      "Epoch 19/20\n",
      "160/160 - 16s - loss: 0.0295 - accuracy: 0.9909 - val_loss: 0.0308 - val_accuracy: 0.9914 - 16s/epoch - 101ms/step\n",
      "Epoch 20/20\n",
      "160/160 - 16s - loss: 0.0291 - accuracy: 0.9904 - val_loss: 0.0312 - val_accuracy: 0.9913 - 16s/epoch - 97ms/step\n"
     ]
    }
   ],
   "source": [
    "'''train model'''\n",
    "#配置學習過程: compile函數\n",
    "model.compile(loss='categorical_crossentropy', optimizer='adam',metrics=['accuracy'])\n",
    "\n",
    "#訓練模型: fit函數\n",
    "train_history=model.fit(x=x_train_normalize, \n",
    "                        y=y_trainOneHot,validation_split=0.2, \n",
    "                        epochs=20, batch_size=300,verbose=2)\n"
   ]
  },
  {
   "cell_type": "code",
   "execution_count": 75,
   "id": "78f3fc1a-3dcd-41f9-929e-d410dc6ea377",
   "metadata": {},
   "outputs": [
    {
     "name": "stdout",
     "output_type": "stream",
     "text": [
      "313/313 [==============================] - 1s 4ms/step\n",
      "6\n"
     ]
    },
    {
     "data": {
      "image/png": "[encoded data removed]",
      "text/plain": [
       "<Figure size 144x144 with 1 Axes>"
      ]
     },
     "metadata": {
      "needs_background": "light"
     },
     "output_type": "display_data"
    }
   ],
   "source": [
    "#預測結果\n",
    "#from tensorflow.keras import models\n",
    "test=x_test_normalize\n",
    "prediction=np.argmax(model.predict(test),axis=-1)\n",
    "\n",
    "'''\n",
    "print(prediction[9999])\n",
    "plot_image(x_test_normalize[9999])\n",
    "'''"
   ]
  },
  {
   "cell_type": "code",
   "execution_count": 114,
   "id": "627b3ea9-31f8-414f-9b45-d407c739fce3",
   "metadata": {},
   "outputs": [
    {
     "name": "stdout",
     "output_type": "stream",
     "text": [
      "[[[255 255 255]\n",
      "  [255 255 255]\n",
      "  [255 255 255]\n",
      "  ...\n",
      "  [255 255 255]\n",
      "  [255 255 255]\n",
      "  [255 255 255]]\n",
      "\n",
      " [[255 255 255]\n",
      "  [255 255 255]\n",
      "  [255 255 255]\n",
      "  ...\n",
      "  [255 255 255]\n",
      "  [255 255 255]\n",
      "  [255 255 255]]\n",
      "\n",
      " [[255 255 255]\n",
      "  [255 255 255]\n",
      "  [255 255 255]\n",
      "  ...\n",
      "  [255 255 255]\n",
      "  [255 255 255]\n",
      "  [255 255 255]]\n",
      "\n",
      " ...\n",
      "\n",
      " [[255 255 255]\n",
      "  [255 255 255]\n",
      "  [255 255 255]\n",
      "  ...\n",
      "  [255 255 255]\n",
      "  [255 255 255]\n",
      "  [255 255 255]]\n",
      "\n",
      " [[255 255 255]\n",
      "  [255 255 255]\n",
      "  [255 255 255]\n",
      "  ...\n",
      "  [255 255 255]\n",
      "  [255 255 255]\n",
      "  [255 255 255]]\n",
      "\n",
      " [[255 255 255]\n",
      "  [255 255 255]\n",
      "  [255 255 255]\n",
      "  ...\n",
      "  [255 255 255]\n",
      "  [255 255 255]\n",
      "  [255 255 255]]]\n",
      "[[  0   0   0   0   0   0   0   0   0   0   0   0   0   0   0   0   0   0\n",
      "    0   0   0   0   0   0   0   0   0   0]\n",
      " [  0   0   0   0   0   0   0   0   0   0   0   0   0   0   0   0   0   0\n",
      "    0   0   0   0   0   0   0   0   0   0]\n",
      " [  0   0   0   0   0   0   0   0   0   0   0   0   0   0   0   0   0   0\n",
      "    0   0   0   0   0   0   0   0   0   0]\n",
      " [  0   0   0   0   0   0   0   0   0   0 116 125 171 255 255 150  93   0\n",
      "    0   0   0   0   0   0   0   0   0   0]\n",
      " [  0   0   0   0   0   0   0   0   0 169 253 253 253 253 253 253 218  30\n",
      "    0   0   0   0   0   0   0   0   0   0]\n",
      " [  0   0   0   0   0   0   0   0 169 253 253 253 213 142 176 253 253 122\n",
      "    0   0   0   0   0   0   0   0   0   0]\n",
      " [  0   0   0   0   0   0   0  52 250 253 210  32  12   0   6 206 253 140\n",
      "    0   0   0   0   0   0   0   0   0   0]\n",
      " [  0   0   0   0   0   0   0  77 251 210  25   0   0   0 122 248 253  65\n",
      "    0   0   0   0   0   0   0   0   0   0]\n",
      " [  0   0   0   0   0   0   0   0  31  18   0   0   0   0 209 253 253  65\n",
      "    0   0   0   0   0   0   0   0   0   0]\n",
      " [  0   0   0   0   0   0   0   0   0   0   0   0   0 117 247 253 198  10\n",
      "    0   0   0   0   0   0   0   0   0   0]\n",
      " [  0   0   0   0   0   0   0   0   0   0   0   0  76 247 253 231  63   0\n",
      "    0   0   0   0   0   0   0   0   0   0]\n",
      " [  0   0   0   0   0   0   0   0   0   0   0   0 128 253 253 144   0   0\n",
      "    0   0   0   0   0   0   0   0   0   0]\n",
      " [  0   0   0   0   0   0   0   0   0   0   0 176 246 253 159  12   0   0\n",
      "    0   0   0   0   0   0   0   0   0   0]\n",
      " [  0   0   0   0   0   0   0   0   0   0  25 234 253 233  35   0   0   0\n",
      "    0   0   0   0   0   0   0   0   0   0]\n",
      " [  0   0   0   0   0   0   0   0   0   0 198 253 253 141   0   0   0   0\n",
      "    0   0   0   0   0   0   0   0   0   0]\n",
      " [  0   0   0   0   0   0   0   0   0  78 248 253 189  12   0   0   0   0\n",
      "    0   0   0   0   0   0   0   0   0   0]\n",
      " [  0   0   0   0   0   0   0   0  19 200 253 253 141   0   0   0   0   0\n",
      "    0   0   0   0   0   0   0   0   0   0]\n",
      " [  0   0   0   0   0   0   0   0 134 253 253 173  12   0   0   0   0   0\n",
      "    0   0   0   0   0   0   0   0   0   0]\n",
      " [  0   0   0   0   0   0   0   0 248 253 253  25   0   0   0   0   0   0\n",
      "    0   0   0   0   0   0   0   0   0   0]\n",
      " [  0   0   0   0   0   0   0   0 248 253 253  43  20  20  20  20   5   0\n",
      "    5  20  20  37 150 150 150 147  10   0]\n",
      " [  0   0   0   0   0   0   0   0 248 253 253 253 253 253 253 253 168 143\n",
      "  166 253 253 253 253 253 253 253 123   0]\n",
      " [  0   0   0   0   0   0   0   0 174 253 253 253 253 253 253 253 253 253\n",
      "  253 253 249 247 247 169 117 117  57   0]\n",
      " [  0   0   0   0   0   0   0   0   0 118 123 123 123 166 253 253 253 155\n",
      "  123 123  41   0   0   0   0   0   0   0]\n",
      " [  0   0   0   0   0   0   0   0   0   0   0   0   0   0   0   0   0   0\n",
      "    0   0   0   0   0   0   0   0   0   0]\n",
      " [  0   0   0   0   0   0   0   0   0   0   0   0   0   0   0   0   0   0\n",
      "    0   0   0   0   0   0   0   0   0   0]\n",
      " [  0   0   0   0   0   0   0   0   0   0   0   0   0   0   0   0   0   0\n",
      "    0   0   0   0   0   0   0   0   0   0]\n",
      " [  0   0   0   0   0   0   0   0   0   0   0   0   0   0   0   0   0   0\n",
      "    0   0   0   0   0   0   0   0   0   0]\n",
      " [  0   0   0   0   0   0   0   0   0   0   0   0   0   0   0   0   0   0\n",
      "    0   0   0   0   0   0   0   0   0   0]]\n"
     ]
    }
   ],
   "source": [
    "from matplotlib import image\n",
    "img = image.imread(\"b.jpg\")\n",
    "#plot_image(img)\n",
    "img_normalize = tf.keras.utils.normalize(img)\n",
    "#prediction=np.argmax(model.predict(img_normalize))\n",
    "print(img)\n",
    "print(x_test[1])\n",
    "#print(x_test)\n",
    "#print(img_normalize)\n",
    "#print(prediction)\n",
    "#print(x_test_normalize[1])"
   ]
  },
  {
   "cell_type": "code",
   "execution_count": 79,
   "id": "3bb9fe21-6357-4d2d-b505-fdd743ce84a9",
   "metadata": {},
   "outputs": [
    {
     "name": "stdout",
     "output_type": "stream",
     "text": [
      "[3 5 5 6 0 4 1 9 5 7 8 9 3 7 4 6 4 3 0 7 0 2 9 1 7 3 2 9 7 7 6 2 7 8 4 7 3\n",
      " 6 1 3 6 9 3 1 4 1 7 6 9]\n",
      "[3 5 5 6 0 4 1 9 5 7 8 9 3 7 4 6 4 3 0 7 0 2 9 1 7 3 2 9 7 7 6 2 7 8 4 7 3\n",
      " 6 1 3 6 9 3 1 4 1 7 6 9]\n"
     ]
    }
   ],
   "source": [
    "print(prediction[51:100])\n",
    "print(y_test[51:100])"
   ]
  },
  {
   "cell_type": "code",
   "execution_count": null,
   "id": "04ff5510-f2b1-4d0a-8d8d-257f01974d3c",
   "metadata": {},
   "outputs": [],
   "source": []
  }
 ],
 "metadata": {
  "kernelspec": {
   "display_name": "Python 3 (ipykernel)",
   "language": "python",
   "name": "python3"
  },
  "language_info": {
   "codemirror_mode": {
    "name": "ipython",
    "version": 3
   },
   "file_extension": ".py",
   "mimetype": "text/x-python",
   "name": "python",
   "nbconvert_exporter": "python",
   "pygments_lexer": "ipython3",
   "version": "3.9.10"
  }
 },
 "nbformat": 4,
 "nbformat_minor": 5
}
