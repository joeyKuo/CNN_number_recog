{
 "cells": [
  {
   "cell_type": "code",
   "execution_count": 175,
   "id": "5524db09-20c6-4326-9caa-34354b7cfca5",
   "metadata": {
    "tags": []
   },
   "outputs": [],
   "source": [
    "import requests\n",
    "import ssl\n",
    "import numpy as np\n",
    "import pandas as pd\n",
    "import tensorflow as tf\n",
    "import tensorflow.keras.utils as np_utils\n",
    "try:\n",
    "    _create_unverified_https_context = ssl._create_unverified_context\n",
    "except AttributeError:\n",
    "    # Legacy Python that doesn't verify HTTPS certificates by default\n",
    "    pass\n",
    "else:\n",
    "    # Handle target environment that doesn't support HTTPS verification\n",
    "    ssl._create_default_https_context = _create_unverified_https_context"
   ]
  },
  {
   "cell_type": "code",
   "execution_count": 176,
   "id": "3cb6ea38-10e3-4560-b0a9-ec15a9d53105",
   "metadata": {},
   "outputs": [],
   "source": [
    "import matplotlib.pyplot as plt\n",
    "import matplotlib.image as img\n",
    "def plot_image(image):\n",
    "    fig = plt.gcf()\n",
    "    fig.set_size_inches(2, 2)\n",
    "    plt.imshow(image, cmap='binary')\n",
    "    plt.show()"
   ]
  },
  {
   "cell_type": "code",
   "execution_count": 177,
   "id": "03f52602-c9e5-4d91-8218-378e5b1f6d91",
   "metadata": {},
   "outputs": [],
   "source": [
    "ds = tf.keras.datasets.mnist"
   ]
  },
  {
   "cell_type": "code",
   "execution_count": 178,
   "id": "3e749633-5aee-48dd-b9a9-f0af0e8b2473",
   "metadata": {},
   "outputs": [],
   "source": [
    "#ds.load_data()\n",
    "(x_train,y_train),(x_test,y_test)= ds.load_data()"
   ]
  },
  {
   "cell_type": "code",
   "execution_count": 179,
   "id": "cd5eb0ae-0cac-454b-81f5-acb20992e93c",
   "metadata": {},
   "outputs": [],
   "source": [
    "#normalize x between 0 & 1\n",
    "x_train_normalize = tf.keras.utils.normalize(x_train)\n",
    "x_test_normalize = tf.keras.utils.normalize(x_test)"
   ]
  },
  {
   "cell_type": "code",
   "execution_count": 180,
   "id": "37ee42ba-7130-4f83-80f8-b9e5b6dba6ae",
   "metadata": {},
   "outputs": [],
   "source": [
    "#one hot encoding\n",
    "y_trainOneHot = np_utils.to_categorical(y_train)\n",
    "y_testOneHot = np_utils.to_categorical(y_test)"
   ]
  },
  {
   "cell_type": "code",
   "execution_count": 181,
   "id": "ba20f376-081c-43d8-8f59-592b752f24e6",
   "metadata": {
    "tags": []
   },
   "outputs": [
    {
     "data": {
      "image/png": "[encoded data removed]",
      "text/plain": [
       "<Figure size 144x144 with 1 Axes>"
      ]
     },
     "metadata": {
      "needs_background": "light"
     },
     "output_type": "display_data"
    }
   ],
   "source": [
    "plot_image(x_train[21])"
   ]
  },
  {
   "cell_type": "code",
   "execution_count": 182,
   "id": "b715d9b0-4d23-4e3c-a055-7e5378a7204b",
   "metadata": {},
   "outputs": [
    {
     "data": {
      "text/plain": [
       "array([[  0,   0,   0,   0,   0,   0,   0,   0,   0,   0,   0,   0,   0,\n",
       "          0,   0,   0,   0,   0,   0,   0,   0,   0,   0,   0,   0,   0,\n",
       "          0,   0],\n",
       "       [  0,   0,   0,   0,   0,   0,   0,   0,   0,   0,   0,   0,   0,\n",
       "          0,   0,   0,   0,   0,   0,   0,   0,   0,   0,   0,   0,   0,\n",
       "          0,   0],\n",
       "       [  0,   0,   0,   0,   0,   0,   0,   0,   0,   0,   0,   0,   0,\n",
       "          0,   0,   0,   0,   0,   0,   0,   0,   0,   0,   0,   0,   0,\n",
       "          0,   0],\n",
       "       [  0,   0,   0,   0,   0,   0,   0,   0,   0,   0,   0,   0,   0,\n",
       "          0,   0,   0,   0,   0,   0,   0,   0,   0,   0,   0,   0,   0,\n",
       "          0,   0],\n",
       "       [  0,   0,   0,   0,   0,   0,   0,   0,   0,   0,   0,   0,   0,\n",
       "          0,   0,   0,   0,  64, 253, 255,  63,   0,   0,   0,   0,   0,\n",
       "          0,   0],\n",
       "       [  0,   0,   0,   0,   0,   0,   0,   0,   0,   0,   0,   0,   0,\n",
       "          0,   0,   0,  96, 205, 251, 253, 205, 111,   4,   0,   0,   0,\n",
       "          0,   0],\n",
       "       [  0,   0,   0,   0,   0,   0,   0,   0,   0,   0,   0,   0,   0,\n",
       "          0,   0,  96, 189, 251, 251, 253, 251, 251,  31,   0,   0,   0,\n",
       "          0,   0],\n",
       "       [  0,   0,   0,   0,   0,   0,   0,   0,   0,   0,   0,   0,  16,\n",
       "         64, 223, 244, 251, 251, 211, 213, 251, 251,  31,   0,   0,   0,\n",
       "          0,   0],\n",
       "       [  0,   0,   0,   0,   0,   0,   0,   0,   0,   0,   0,  80, 181,\n",
       "        251, 253, 251, 251, 251,  94,  96, 251, 251,  31,   0,   0,   0,\n",
       "          0,   0],\n",
       "       [  0,   0,   0,   0,   0,   0,   0,   0,   0,   0,  92, 253, 253,\n",
       "        253, 255, 253, 253, 253,  95,  96, 253, 253,  31,   0,   0,   0,\n",
       "          0,   0],\n",
       "       [  0,   0,   0,   0,   0,   0,   0,   0,   0,  92, 236, 251, 243,\n",
       "        220, 233, 251, 251, 243,  82,  96, 251, 251,  31,   0,   0,   0,\n",
       "          0,   0],\n",
       "       [  0,   0,   0,   0,   0,   0,   0,   0,  80, 253, 251, 251, 188,\n",
       "          0,  96, 251, 251, 109,   0,  96, 251, 251,  31,   0,   0,   0,\n",
       "          0,   0],\n",
       "       [  0,   0,   0,   0,   0,   0,   0,  96, 240, 253, 243, 188,  42,\n",
       "          0,  96, 204, 109,   4,   0,  12, 197, 251,  31,   0,   0,   0,\n",
       "          0,   0],\n",
       "       [  0,   0,   0,   0,   0,   0,   0, 221, 251, 253, 121,   0,   0,\n",
       "          0,  36,  23,   0,   0,   0,   0, 190, 251,  31,   0,   0,   0,\n",
       "          0,   0],\n",
       "       [  0,   0,   0,   0,   0,   0,  48, 234, 253,   0,   0,   0,   0,\n",
       "          0,   0,   0,   0,   0,   0,   0, 191, 253,  31,   0,   0,   0,\n",
       "          0,   0],\n",
       "       [  0,   0,   0,   0,   0,  44, 221, 251, 251,   0,   0,   0,   0,\n",
       "          0,   0,   0,   0,   0,   0,  12, 197, 251,  31,   0,   0,   0,\n",
       "          0,   0],\n",
       "       [  0,   0,   0,   0,   0, 190, 251, 251, 251,   0,   0,   0,   0,\n",
       "          0,   0,   0,   0,   0,   0,  96, 251, 251,  31,   0,   0,   0,\n",
       "          0,   0],\n",
       "       [  0,   0,   0,   0,   0, 190, 251, 251, 113,   0,   0,   0,   0,\n",
       "          0,   0,   0,   0,   0,  40, 234, 251, 219,  23,   0,   0,   0,\n",
       "          0,   0],\n",
       "       [  0,   0,   0,   0,   0, 190, 251, 251,  94,   0,   0,   0,   0,\n",
       "          0,   0,   0,   0,  40, 217, 253, 231,  47,   0,   0,   0,   0,\n",
       "          0,   0],\n",
       "       [  0,   0,   0,   0,   0, 191, 253, 253, 253,   0,   0,   0,   0,\n",
       "          0,   0,  12, 174, 253, 253, 219,  39,   0,   0,   0,   0,   0,\n",
       "          0,   0],\n",
       "       [  0,   0,   0,   0,   0,  67, 236, 251, 251, 191, 190, 111,  72,\n",
       "        190, 191, 197, 251, 243, 121,  39,   0,   0,   0,   0,   0,   0,\n",
       "          0,   0],\n",
       "       [  0,   0,   0,   0,   0,   0,  63, 236, 251, 253, 251, 251, 251,\n",
       "        251, 253, 251, 188,  94,   0,   0,   0,   0,   0,   0,   0,   0,\n",
       "          0,   0],\n",
       "       [  0,   0,   0,   0,   0,   0,   0,  27, 129, 253, 251, 251, 251,\n",
       "        251, 229, 168,  15,   0,   0,   0,   0,   0,   0,   0,   0,   0,\n",
       "          0,   0],\n",
       "       [  0,   0,   0,   0,   0,   0,   0,   0,   0,  95, 212, 251, 211,\n",
       "         94,  59,   0,   0,   0,   0,   0,   0,   0,   0,   0,   0,   0,\n",
       "          0,   0],\n",
       "       [  0,   0,   0,   0,   0,   0,   0,   0,   0,   0,   0,   0,   0,\n",
       "          0,   0,   0,   0,   0,   0,   0,   0,   0,   0,   0,   0,   0,\n",
       "          0,   0],\n",
       "       [  0,   0,   0,   0,   0,   0,   0,   0,   0,   0,   0,   0,   0,\n",
       "          0,   0,   0,   0,   0,   0,   0,   0,   0,   0,   0,   0,   0,\n",
       "          0,   0],\n",
       "       [  0,   0,   0,   0,   0,   0,   0,   0,   0,   0,   0,   0,   0,\n",
       "          0,   0,   0,   0,   0,   0,   0,   0,   0,   0,   0,   0,   0,\n",
       "          0,   0],\n",
       "       [  0,   0,   0,   0,   0,   0,   0,   0,   0,   0,   0,   0,   0,\n",
       "          0,   0,   0,   0,   0,   0,   0,   0,   0,   0,   0,   0,   0,\n",
       "          0,   0]], dtype=uint8)"
      ]
     },
     "execution_count": 182,
     "metadata": {},
     "output_type": "execute_result"
    }
   ],
   "source": [
    "x_train[21]"
   ]
  },
  {
   "cell_type": "code",
   "execution_count": 183,
   "id": "4791a394-9b6f-4bb1-9a84-d1b7641eea9f",
   "metadata": {},
   "outputs": [],
   "source": [
    "#Create CNN model\n",
    "from keras.models import Sequential\n",
    "from keras.layers import Dense, Dropout, Flatten, Conv2D, MaxPooling2D"
   ]
  },
  {
   "cell_type": "code",
   "execution_count": 184,
   "id": "1ea9e9fc-5541-4766-bc90-6fb3b98313c7",
   "metadata": {},
   "outputs": [],
   "source": [
    "model = Sequential()\n",
    "\n",
    "#filter為16, Kernel size為(5,5),Padding為(same)\n",
    "model.add(Conv2D(filters=16,\n",
    "                 kernel_size=(5,5),\n",
    "                 padding='same',\n",
    "                 input_shape=(28,28,1), \n",
    "                 activation='relu'))"
   ]
  },
  {
   "cell_type": "code",
   "execution_count": 185,
   "id": "82200bdf-344c-4412-a6b4-103089a6f798",
   "metadata": {},
   "outputs": [],
   "source": [
    "#MaxPooling size is (2,2)\n",
    "model.add(MaxPooling2D(pool_size=(2,2)))"
   ]
  },
  {
   "cell_type": "code",
   "execution_count": 186,
   "id": "81af442a-e6d4-4b88-8e04-3e8058998618",
   "metadata": {},
   "outputs": [],
   "source": [
    "model.add(Conv2D(filters=36,\n",
    "                 kernel_size=(5,5),\n",
    "                 padding='same',\n",
    "                 activation='relu'))\n",
    "model.add(MaxPooling2D(pool_size=(2, 2)))"
   ]
  },
  {
   "cell_type": "code",
   "execution_count": 187,
   "id": "543c0608-1e77-4ea9-be80-8a12970a2837",
   "metadata": {},
   "outputs": [],
   "source": [
    "#Drop掉部分神經元避免overfitting\n",
    "model.add(Dropout(0.25))"
   ]
  },
  {
   "cell_type": "code",
   "execution_count": 188,
   "id": "bb3ea36e-0194-4744-b507-78ab7fdf0ebd",
   "metadata": {},
   "outputs": [],
   "source": [
    "#平坦化\n",
    "model.add(Flatten())\n",
    "model.add(Dense(128,activation='relu'))\n",
    "model.add(Dropout(0.5))\n",
    "model.add(Dense(10,activation='softmax'))"
   ]
  },
  {
   "cell_type": "code",
   "execution_count": 189,
   "id": "9d0fba6f-d7c8-455c-ae41-05c814e9b521",
   "metadata": {},
   "outputs": [],
   "source": [
    "#train model\n",
    "model.compile(loss='categorical_crossentropy', optimizer='adam',metrics=['accuracy'])"
   ]
  },
  {
   "cell_type": "code",
   "execution_count": 190,
   "id": "c306ed0e-729a-4ce6-a87c-05ad8b08217f",
   "metadata": {},
   "outputs": [
    {
     "data": {
      "text/plain": [
       "'\\ntrain_history=model.fit(x=x_train_normalize, \\n                        y=y_trainOneHot,validation_split=0.2, \\n                        epochs=20, batch_size=300,verbose=2)\\n'"
      ]
     },
     "execution_count": 190,
     "metadata": {},
     "output_type": "execute_result"
    }
   ],
   "source": [
    "'''\n",
    "train_history=model.fit(x=x_train_normalize, \n",
    "                        y=y_trainOneHot,validation_split=0.2, \n",
    "                        epochs=20, batch_size=300,verbose=2)\n",
    "'''"
   ]
  },
  {
   "cell_type": "code",
   "execution_count": 191,
   "id": "53a0f5f6-c7fd-41b4-b39f-52fd77e1f2e0",
   "metadata": {},
   "outputs": [],
   "source": [
    "#print(model.summary())\n"
   ]
  },
  {
   "cell_type": "code",
   "execution_count": 192,
   "id": "b360873c-90f2-421b-8231-f6b1ccbb087a",
   "metadata": {},
   "outputs": [
    {
     "ename": "NameError",
     "evalue": "name 'show_train_history' is not defined",
     "output_type": "error",
     "traceback": [
      "\u001b[0;31m---------------------------------------------------------------------------\u001b[0m",
      "\u001b[0;31mNameError\u001b[0m                                 Traceback (most recent call last)",
      "\u001b[0;32m/var/folders/q0/hyc6qm_x22ndkhyj5rwk9g4h0000gn/T/ipykernel_10494/196935921.py\u001b[0m in \u001b[0;36m<module>\u001b[0;34m\u001b[0m\n\u001b[0;32m----> 1\u001b[0;31m \u001b[0mshow_train_history\u001b[0m\u001b[0;34m(\u001b[0m\u001b[0;34m'acc'\u001b[0m\u001b[0;34m,\u001b[0m\u001b[0;34m'val_acc'\u001b[0m\u001b[0;34m)\u001b[0m\u001b[0;34m\u001b[0m\u001b[0;34m\u001b[0m\u001b[0m\n\u001b[0m",
      "\u001b[0;31mNameError\u001b[0m: name 'show_train_history' is not defined"
     ]
    }
   ],
   "source": [
    "show_train_history('acc','val_acc')"
   ]
  }
 ],
 "metadata": {
  "kernelspec": {
   "display_name": "Python 3 (ipykernel)",
   "language": "python",
   "name": "python3"
  },
  "language_info": {
   "codemirror_mode": {
    "name": "ipython",
    "version": 3
   },
   "file_extension": ".py",
   "mimetype": "text/x-python",
   "name": "python",
   "nbconvert_exporter": "python",
   "pygments_lexer": "ipython3",
   "version": "3.9.7"
  }
 },
 "nbformat": 4,
 "nbformat_minor": 5
}
